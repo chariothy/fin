{
 "cells": [
  {
   "cell_type": "code",
   "execution_count": null,
   "metadata": {},
   "outputs": [],
   "source": []
  }
 ],
 "metadata": {
  "interpreter": {
   "hash": "39107e3f6415562b3354e3dbd0d52fd89f2d93445b7b544f0609f9d38bafc1c8"
  },
  "kernelspec": {
   "display_name": "Python 3.9.7 64-bit ('fin': conda)",
   "language": "python",
   "name": "python3"
  },
  "language_info": {
   "name": "python",
   "version": "3.9.7"
  },
  "orig_nbformat": 4
 },
 "nbformat": 4,
 "nbformat_minor": 2
}
